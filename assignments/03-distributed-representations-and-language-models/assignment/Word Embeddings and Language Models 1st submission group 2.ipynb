{
 "cells": [
  {
   "cell_type": "markdown",
   "metadata": {},
   "source": [
    "# Lab 3: Word Embeddings and Language Modelling\n",
    "\n",
    "Adam Ek"
   ]
  },
  {
   "cell_type": "markdown",
   "metadata": {},
   "source": [
    "In this lab we'll explore constructing *static* word embeddings (i.e. word2vec) and building language models. We'll also evaluate these systems on intermediate tasks, namely word similarity and identifying \"good\" and \"bad\" sentences.\n",
    "\n",
    "* For this we'll use pytorch. Some basic operations that will be useful can be found here: https://jhui.github.io/2018/02/09/PyTorch-Basic-operations\n",
    "* In general: we are not interested in getting state-of-the-art performance :) focus on the implementation and not results of your model. For this reason, you can use a subset of the dataset: the first 5000-10 000 sentences or so, on linux/mac: ```head -n 10000 inputfile > outputfile```. \n",
    "* If possible, use the MLTGpu, it will make everything faster :)"
   ]
  },
  {
   "cell_type": "code",
   "execution_count": 1,
   "metadata": {},
   "outputs": [],
   "source": [
    "import torch\n",
    "import torch.nn as nn\n",
    "import torch.nn.functional as F\n",
    "import numpy as np\n",
    "import os\n",
    "\n",
    "# for gpu, replace \"cpu\" with \"cuda:n\" where n is the index of the GPU\n",
    "#device = torch.device('cpu')\n",
    "device = torch.device('cuda:0')"
   ]
  },
  {
   "cell_type": "markdown",
   "metadata": {},
   "source": [
    "# Word2Vec embeddings\n",
    "\n",
    "In this first part we'll construct a word2vec model which will give us *static* word embeddings (that is, they are fixed after training).\n",
    "\n",
    "After we've trained our model we will evaluate the embeddings obtained on a word similarity task."
   ]
  },
  {
   "cell_type": "markdown",
   "metadata": {},
   "source": [
    "## Formatting data\n"
   ]
  },
  {
   "cell_type": "markdown",
   "metadata": {},
   "source": [
    "First we need to load some data, you can download the file on canvas under files/03-lab-data/wiki-corpus.txt. The file contains 50 000 sentences randomly selected from the complete wikipedia. Each line in the file contains one sentence. The sentences are whitespace tokenized.\n",
    "\n",
    "Your first task is to create a dataset suitable for word2vec. That is, we define some ```window_size``` then iterate over all sentences in the dataset, putting the center word in one field and the context words in another (separate the fields with ```tab```).\n",
    "\n",
    "For example, the sentece \"this is a lab\" with ```window size = 4``` will be formatted as:\n",
    "```\n",
    "center, context\n",
    "---------------------\n",
    "this    is a\n",
    "is      this a lab\n",
    "a       this is lab\n",
    "lab     is a\n",
    "```\n",
    "\n",
    "this will be our training examples when training the word2vec model.\n",
    "\n",
    "[3 marks]"
   ]
  },
  {
   "cell_type": "code",
   "execution_count": 2,
   "metadata": {},
   "outputs": [],
   "source": [
    "import os\n",
    "\n",
    "# Imports\n",
    "import pandas as pd\n",
    "import numpy as np\n",
    "import torch\n",
    "from torch.utils.data import DataLoader, Dataset\n",
    "import torch.optim as optim\n",
    "\n",
    "import time\n",
    "from collections import namedtuple\n",
    "import collections\n",
    "import toolz"
   ]
  },
  {
   "cell_type": "code",
   "execution_count": 3,
   "metadata": {},
   "outputs": [],
   "source": [
    "# read data\n",
    "def corpus_reader(data_path):\n",
    "    with open(data_path) as f:\n",
    "        data = f.read().splitlines()\n",
    "\n",
    "    return data"
   ]
  },
  {
   "cell_type": "code",
   "execution_count": 4,
   "metadata": {},
   "outputs": [],
   "source": [
    "# Implement custom torch Dataset\n",
    "class ContextDataset(Dataset):\n",
    "    \n",
    "    def __init__(self,\n",
    "                 raw_texts,\n",
    "                 window_size=4,\n",
    "                 tokenizer=None,\n",
    "                 lower=True,\n",
    "                 min_freq=0,\n",
    "                 unk_label='<unk>',\n",
    "                 pad_label='<pad>',\n",
    "                 verbose=False):\n",
    "        \n",
    "        \"\"\"\n",
    "        raw_texts: list of texts\n",
    "        \"\"\"\n",
    "        \n",
    "        self.verbose=verbose\n",
    "        \n",
    "        self.window_size= 4\n",
    "        self.min_freq = min_freq\n",
    "        self.unk_label, self.unk_idx = unk_label, 0\n",
    "        self.pad_label, self.pad_idx = pad_label, 1\n",
    "        \n",
    "        \n",
    "        if tokenizer is None:\n",
    "            self.tokenizer = lambda x: x.replace('.',' ').replace(',', ' ').replace('\"', ' ').split() #simple punctuation and whitespace\n",
    "        self.lower = lower\n",
    "        \n",
    "        # Load Data\n",
    "        #self.center, self.context = self.__load_tsv(self.tsv_path)\n",
    "        self.center, self.context = self.create_dataset(raw_texts)\n",
    "        \n",
    "        # Vocabulary\n",
    "        self.word_to_idx = dict()\n",
    "        self.word_to_idx[self.unk_label] = self.unk_idx\n",
    "        self.word_to_idx[self.pad_label] = self.pad_idx\n",
    "        self.word_to_idx.update({word:idx+max(self.word_to_idx.values())+1 for idx, word in enumerate(np.unique(self.center))})\n",
    "\n",
    "        # Word Counts\n",
    "        # center represents every instance of every word in the text\n",
    "        self.word_counts = pd.value_counts(self.center).to_dict()\n",
    "        \n",
    "        # Apply min_freq\n",
    "        if min_freq:\n",
    "            word_counts_over_min_freq = {k:v for k,v in self.word_counts.items() if v >= min_freq}\n",
    "            self.word_to_idx = {k:v for k,v in self.word_to_idx.items() if ((k in word_counts_over_min_freq) or k in [unk_label, pad_label])}\n",
    "            \n",
    "        self.idx_to_word = {v:k for k,v in self.word_to_idx.items()}\n",
    "        \n",
    "        # Numericalize\n",
    "        # Note I will do this in data_loader.\n",
    "        #self.center = np.array([self.numericalize(w) for w in self.center])\n",
    "        #self.context = np.array([np.array([self.numericalize(w) for w in sent]) for sent in self.context], dtype='object')\n",
    "        \n",
    "    \n",
    "    def get_window_context(self, position_index, sentence_array, window_size):\n",
    "        \"\"\"\n",
    "        returns: center_word, context_array\n",
    "\n",
    "        sentence_array = ['this', 'is', 'a', 'lab', 'filler', 'filler']\n",
    "        window_size = 4\n",
    "        position_index = 1\n",
    "\n",
    "        reutrns: is, [this, a, lab]\n",
    "        \"\"\"\n",
    "        window_range = int(np.ceil(window_size/2)) #Assume window_size is even otherwise round up. (3 -> 4)\n",
    "        context_indices = [int(i) for i in range(position_index-window_range, position_index+window_range+1) if (i>=0 and i!=position_index and i<len(sentence_array))] \n",
    "        context_array = [sentence_array[i] for i in context_indices]\n",
    "\n",
    "        return sentence_array[position_index], context_array\n",
    "    \n",
    "    def create_dataset(self, raw_texts):\n",
    "        \n",
    "        t1 = time.time()\n",
    "        c = 0\n",
    "        contexts_dfs = []\n",
    "        for sent_id, text in enumerate(raw_texts):\n",
    "            \n",
    "            if self.verbose:\n",
    "                c+=1\n",
    "                if c%1000 == 0:\n",
    "                    t2 = time.time()\n",
    "                    print(f'{c}/{len(raw_texts)}, dt = {round(t2-t1,3)}')\n",
    "                    t1 = time.time()\n",
    "                \n",
    "            text = self.tokenize(text)\n",
    "            \n",
    "            windowed_contexts = pd.DataFrame([self.get_window_context(i, text, self.window_size) for i,_ in enumerate(text)], columns = ['center', 'context'])\n",
    "            windowed_contexts['sentence_id'] = sent_id\n",
    "            contexts_dfs.append(windowed_contexts) \n",
    "        \n",
    "        dataset = pd.concat(contexts_dfs, axis=0, ignore_index=True)\n",
    "        \n",
    "        return np.array(dataset['center']), np.array(dataset['context'])\n",
    "    \n",
    "    def tokenize(self, string):\n",
    "        if self.lower:\n",
    "            string = string.lower()\n",
    "        return np.array(self.tokenizer(string))\n",
    "\n",
    "    def idx2word(self, idx_or_list):\n",
    "        try:\n",
    "            len(idx_or_list)\n",
    "            return [self.idx_to_word.get(idx, self.unk_label) for idx in idx_or_list]\n",
    "        except:\n",
    "            return self.idx_to_word.get(idx_or_list, self.unk_label)\n",
    "    \n",
    "    def word2idx(self, word_or_list):\n",
    "        \n",
    "        if isinstance(word_or_list, str):\n",
    "            return self.word_to_idx.get(word_or_list, self.unk_idx)\n",
    "        else:\n",
    "            return [self.word_to_idx.get(w, self.unk_idx) for w in word_or_list]\n",
    "        \n",
    "    def get_shuffled_data(self, seed=None): \n",
    "        np.random.seed(seed)\n",
    "        \n",
    "        rng = np.arange(len(self))\n",
    "        np.random.shuffle(rng)\n",
    "        return self.center[rng], self.context[rng]\n",
    "        \n",
    "    def __getitem__(self, idx):\n",
    "        return self.center[idx], self.context[idx]\n",
    "    \n",
    "    def __len__(self):\n",
    "        return len(self.center)\n",
    "    \n"
   ]
  },
  {
   "cell_type": "code",
   "execution_count": 5,
   "metadata": {},
   "outputs": [
    {
     "name": "stdout",
     "output_type": "stream",
     "text": [
      "TEST data parser\n",
      "----\n",
      "get_window_context test: ('is', ['this', 'a', 'lab'])\n",
      "center:context\n",
      "a : ['bomb', 'was']\n",
      "bomb : ['a', 'was', 'thrown']\n",
      "was : ['a', 'bomb', 'thrown', 'by']\n",
      "thrown : ['bomb', 'was', 'by', 'an']\n",
      "by : ['was', 'thrown', 'an', 'unknown']\n",
      "{'<unk>': 0, '<pad>': 1, 'a': 2, 'an': 3, 'bomb': 4, 'by': 5, 'coherence': 6, 'hypothesizes': 7, 'limited': 8, 'party': 9, 'that': 10, 'theory': 11, 'thrown': 12, 'unknown': 13, 'was': 14}\n"
     ]
    }
   ],
   "source": [
    "print('TEST data parser')\n",
    "test_dataset = ContextDataset(['A bomb was thrown by an unknown party', 'coherence theory hypothesizes that a limited'], window_size=4)\n",
    "print('----')\n",
    "print('get_window_context test:', test_dataset.get_window_context(1, ['this', 'is', 'a', 'lab', 'filler', 'filler'], 4))\n",
    "        \n",
    "\n",
    "print('center:context')\n",
    "for i,j in zip(test_dataset.center[0:5], test_dataset.context[0:5]):\n",
    "    print(i,':', j)\n",
    "\n",
    "print(test_dataset.word_to_idx)"
   ]
  },
  {
   "cell_type": "code",
   "execution_count": 6,
   "metadata": {},
   "outputs": [
    {
     "name": "stdout",
     "output_type": "stream",
     "text": [
      "1000/5000, dt = 1.148\n",
      "2000/5000, dt = 1.076\n",
      "3000/5000, dt = 1.125\n",
      "4000/5000, dt = 1.034\n",
      "5000/5000, dt = 1.143\n"
     ]
    }
   ],
   "source": [
    "# Actual Data\n",
    "# On a 5000 corpus still due to the time it takes; we will reupload it with the results of the 50k one for the final submission\n",
    "# Keep in mind that re-running the model gives slightly different results as can be seen in the evaluation and discussion.\n",
    "\n",
    "data_path = './wiki-corpus.5000.txt'\n",
    "raw_texts = corpus_reader(data_path)\n",
    "dataset = ContextDataset(raw_texts, window_size=4, verbose=True)\n"
   ]
  },
  {
   "cell_type": "code",
   "execution_count": 7,
   "metadata": {},
   "outputs": [
    {
     "name": "stdout",
     "output_type": "stream",
     "text": [
      "anarchist : ['historian', 'george']\n",
      "historian : ['anarchist', 'george', 'woodcock']\n",
      "george : ['anarchist', 'historian', 'woodcock', 'reports']\n",
      "woodcock : ['historian', 'george', 'reports', 'that']\n",
      "reports : ['george', 'woodcock', 'that', 'the']\n",
      "that : ['woodcock', 'reports', 'the', 'annual']\n",
      "the : ['reports', 'that', 'annual', 'congress']\n",
      "annual : ['that', 'the', 'congress', 'of']\n",
      "congress : ['the', 'annual', 'of', 'the']\n",
      "of : ['annual', 'congress', 'the', 'international']\n"
     ]
    }
   ],
   "source": [
    "for i,j in zip(dataset.center[0:10], dataset.context[0:10]):\n",
    "    print(i,':', j)"
   ]
  },
  {
   "cell_type": "markdown",
   "metadata": {},
   "source": [
    "We sampled 50 000 senteces completely random from the *whole* wikipedia for our training data. Give some reasons why this is good, and why it might be bad. (*note*: We'll have a few questions like these, one or two reasons for and against is sufficient)\n",
    "\n",
    "[2 marks]"
   ]
  },
  {
   "cell_type": "markdown",
   "metadata": {},
   "source": [
    "**Notes**\n",
    "\n",
    "Padding?\n",
    "\n",
    "min_freq doesnt work correctly. word_freq<min_freq is still in data\n",
    "\n",
    "\n",
    "**GOOD**\n",
    "- It is fair too assume wikipedia doesnt contain too much human bias (opinions, racist/discriminatory/abusive language).\n",
    "- There is a chance for a big variety of topics, ergo, a big variety in vocabulary.  \n",
    "\n",
    "**BAD**\n",
    "- 50k sentences spread out over all of wikipedia might too small a sample, as the contexts can vary a lot.\n",
    "- We may only get some contexts for certain words that have more than one meaning (e.g. if we do not get sentences about banks as financial institution but only about riverbanks, then the \"meaning\" of bank will be skewed). We do not get the full range of the use of a word. \n",
    "- The model may be missing a lot of the basic vocabulary if the sentences happen to describe highly abstract or complicated topics (so we will have the word for photosynthesis, but not for chair, for example).\n",
    "- There is a small chance of ending up with sentences from only one semantic area which would also limit how general our model can be.\n",
    "- The writing in Wikipedia reflects only one style of language really (this can be a + too depending on what the aim of the model is).\n",
    "- We get a lot of numbers, symbols, and non-English words which is not great for English language modelling."
   ]
  },
  {
   "cell_type": "markdown",
   "metadata": {},
   "source": [
    "### Loading the data\n",
    "\n",
    "We now need to load the data in an appropriate format for torchtext (https://torchtext.readthedocs.io/en/latest/). We'll use PyText for this and it'll follow the same structure as I showed you in the lecture (remember to lower-case all tokens). Create a function which returns a (bucket)iterator of the training data, and the vocabulary object (```Field```). \n",
    "\n",
    "(*hint1*: you can format the data such that the center word always is first, then you only need to use one field)\n",
    "\n",
    "(*hint2*: the code I showed you during the leture is available in /files/pytorch_tutorial/ on canvas)\n",
    "\n",
    "[4 marks]"
   ]
  },
  {
   "cell_type": "code",
   "execution_count": 8,
   "metadata": {},
   "outputs": [],
   "source": [
    "# Custom loader\n",
    "\n",
    "from collections import namedtuple\n",
    "from toolz import take\n",
    "from itertools import tee\n",
    "\n",
    "def get_loader(dataset, batch_size, shuffle=True):\n",
    "    \n",
    "    if shuffle:\n",
    "        centers, contexts = dataset.get_shuffled_data() \n",
    "    else:\n",
    "        centers = dataset.center\n",
    "        contexts = dataset.context\n",
    "        \n",
    "    centers = iter(centers)\n",
    "    contexts = iter(contexts)\n",
    "    Batch = namedtuple('Batch', ['contexts', 'centers'])\n",
    "    for i in range(int(len(dataset)/batch_size)+1):\n",
    "        batch_centers = take(batch_size, centers)\n",
    "        if not batch_centers:\n",
    "            continue\n",
    "        batch_contexts, bc2 = tee(take(batch_size, contexts))\n",
    "        \n",
    "        #padding and word2idx - this part i think is refered to as Collate in torch.\n",
    "        batch_centers = torch.tensor(dataset.word2idx(batch_centers))\n",
    "        max_len = max([len(x) for x in bc2])\n",
    "        batch_contexts = torch.tensor([dataset.word2idx(s)+[dataset.pad_idx]*(max_len-len(s)) for s in batch_contexts])\n",
    "\n",
    "        yield Batch(batch_contexts, batch_centers)\n",
    "        \n",
    "# Todo try with torch.DataLoader\n"
   ]
  },
  {
   "cell_type": "code",
   "execution_count": 9,
   "metadata": {},
   "outputs": [
    {
     "name": "stdout",
     "output_type": "stream",
     "text": [
      "TEST (CUSTOM) LOADER\n",
      "torch.Size([5, 4])\n",
      "[2, 4, 14, 12, 5]\n",
      "['a', 'bomb', 'was', 'thrown', 'by']\n",
      "[['bomb', 'was', '<pad>', '<pad>'], ['a', 'was', 'thrown', '<pad>'], ['a', 'bomb', 'thrown', 'by'], ['bomb', 'was', 'by', 'an'], ['was', 'thrown', 'an', 'unknown']]\n",
      "\n",
      "torch.Size([5, 4])\n",
      "[3, 13, 9, 6, 11]\n",
      "['an', 'unknown', 'party', 'coherence', 'theory']\n",
      "[['thrown', 'by', 'unknown', 'party'], ['by', 'an', 'party', '<pad>'], ['an', 'unknown', '<pad>', '<pad>'], ['theory', 'hypothesizes', '<pad>', '<pad>'], ['coherence', 'hypothesizes', 'that', '<pad>']]\n",
      "\n",
      "torch.Size([4, 4])\n",
      "[7, 10, 2, 8]\n",
      "['hypothesizes', 'that', 'a', 'limited']\n",
      "[['coherence', 'theory', 'that', 'a'], ['theory', 'hypothesizes', 'a', 'limited'], ['hypothesizes', 'that', 'limited', '<pad>'], ['that', 'a', '<pad>', '<pad>']]\n",
      "\n"
     ]
    }
   ],
   "source": [
    "print('TEST (CUSTOM) LOADER')\n",
    "test_loader = get_loader(test_dataset, 5, shuffle=False)\n",
    "for cont, cent in test_loader:\n",
    "    print(np.shape(cont)) # Note: batch_first\n",
    "    print(cent.tolist())\n",
    "    print(test_dataset.idx2word(cent.tolist()))\n",
    "    print([test_dataset.idx2word(c) for c in cont.tolist()])\n",
    "    print()"
   ]
  },
  {
   "cell_type": "markdown",
   "metadata": {},
   "source": [
    "We lower-cased all tokens above; give some reasons why this is a good idea, and why it may be harmful to our embeddings.\n",
    "\n",
    "[2 marks]"
   ]
  },
  {
   "cell_type": "markdown",
   "metadata": {},
   "source": [
    "**Good**\n",
    "\n",
    "+ We will not get separate instances for the same word depending on whether or not it was the first word in the sentence - e.g. dog and Dog will not be separate embeddings, which is good, because it is the same word.\n",
    "+ If we use a more advanced tokenizer, it may be able to keep proper nouns capitalized to avoid the phenomenon described in the \"bad\" section.\n",
    "\n",
    "**Bad**\n",
    "\n",
    "+ There may be cases where the uppercase and the lowercase of the same spelling are, in fact, different words: Patty is short for Patricia, but a patty is what you put in a burger; Billy is a name, but a billy goat is a male goat; Brown is a surname, but brown is a color; New York is a city, but a new york is someone's new Yorkshire terrier perhaps (funnily enough in Poland there is a big city the name of which literally translates to \"boat\" - prime example of a situation where context and uppercase matters). Or, even better, it and IT will be grouped together when they are definitely not the same thing!"
   ]
  },
  {
   "cell_type": "markdown",
   "metadata": {},
   "source": [
    "## Word Embeddings Model"
   ]
  },
  {
   "cell_type": "markdown",
   "metadata": {},
   "source": [
    "We will implement the CBOW model for constructing word embedding models."
   ]
  },
  {
   "cell_type": "markdown",
   "metadata": {},
   "source": [
    "In the CBOW model we try to predict the center word based on the context. That is, we take as input ```n``` context words, encode them as vectors, then combine them by summation. This will give us one embedding. We then use this embedding to predict *which* word in our vocabuary is the most likely center word. \n",
    "\n",
    "Implement this model \n",
    "\n",
    "[7 marks]"
   ]
  },
  {
   "cell_type": "code",
   "execution_count": 10,
   "metadata": {},
   "outputs": [],
   "source": [
    "class CBOWModel(nn.Module):\n",
    "    def __init__(self, dataset, vocab_size, embedding_dim, padding_idx=None):\n",
    "        super().__init__()\n",
    "        self.embeddings = nn.Embedding(vocab_size, embedding_dim, padding_idx=padding_idx)\n",
    "        self.prediction = nn.Linear(embedding_dim, vocab_size) # we dont need context_size*embedding_dim because we will apply summation before.\n",
    "        self.dataset = dataset\n",
    "    \n",
    "    def forward(self, context):\n",
    "        # context (B, S)\n",
    "        embedded_context = self.embeddings(context) #(B, S, D)\n",
    "        projection = self.projection_function(embedded_context)\n",
    "        predictions = self.prediction(projection)\n",
    "        #return predictions\n",
    "        output = F.softmax(predictions, dim=0) # why do we need this? what about log softmax?\n",
    "        return output\n",
    "        \n",
    "    def projection_function(self, xs):\n",
    "        #This is alternative to another linear layer. Basically linear layer with same coefficient.\n",
    "        \"\"\"\n",
    "        This function will take as input a tensor of size (B, S, D)\n",
    "        where B is the batch_size, S the window size, and D the dimensionality of embeddings\n",
    "        this function should compute the sum over the embedding dimensions of the input, \n",
    "        that is, we transform (B, S, D) to (B, 1, D) or (B, D) \n",
    "        \"\"\"\n",
    "        xs_sum = torch.sum(xs, dim=1) \n",
    "        return xs_sum\n",
    "    \n",
    "    def get_embedding(self, word):\n",
    "        idx_word = self.dataset.word2idx(word)\n",
    "        word_embedding = self.embeddings(torch.tensor(idx_word))\n",
    "        \n",
    "        return word_embedding"
   ]
  },
  {
   "cell_type": "code",
   "execution_count": 11,
   "metadata": {},
   "outputs": [],
   "source": [
    "# you can change these numbers to suit your needs :)\n",
    "# what do these actually mean and how do changes in them affect our results? what are optimal/commonly used values? \n",
    "word_embeddings_hyperparameters = {'epochs':3,\n",
    "                                   'batch_size':16,\n",
    "                                   'embedding_size':128, #What is this?\n",
    "                                   'learning_rate':0.001,\n",
    "                                   'embedding_dim':128}\n",
    "\n",
    "word_embeddings_hyperparameters = {'epochs':5,\n",
    "                                   'batch_size':4096,\n",
    "                                   'learning_rate':0.005,\n",
    "                                   'embedding_dim':128}"
   ]
  },
  {
   "cell_type": "markdown",
   "metadata": {},
   "source": [
    "Train your model. Iterate over the dataset, get outputs from your model, calculate loss and backpropagate.\n",
    "\n",
    "We mentioned in the lecture that we use Negative Log Likelihood (https://pytorch.org/docs/stable/generated/torch.nn.NLLLoss.html) loss to train Word2Vec model. In this lab we'll take a shortcut when *training* and use Cross Entropy Loss (https://pytorch.org/docs/stable/generated/torch.nn.CrossEntropyLoss.html), basically it combines ```log_softmax``` and ```NLLLoss```. So what your model should output is a *score* for each word in our vocabulary. The ```CrossEntropyLoss``` will then assign probabilities and calculate the negative log likelihood loss.\n",
    "\n",
    "[3 marks]"
   ]
  },
  {
   "cell_type": "code",
   "execution_count": 12,
   "metadata": {},
   "outputs": [
    {
     "name": "stdout",
     "output_type": "stream",
     "text": [
      "Batch 0 : Average Loss = 9.91758\n",
      "Batch 1 : Average Loss = 9.91758\n",
      "Batch 2 : Average Loss = 9.91758\n",
      "Batch 3 : Average Loss = 9.91757\n",
      "Batch 4 : Average Loss = 9.91755\n",
      "Batch 5 : Average Loss = 9.91755\n",
      "Batch 6 : Average Loss = 9.91754\n",
      "Batch 7 : Average Loss = 9.91753\n",
      "Batch 8 : Average Loss = 9.91751\n",
      "Batch 9 : Average Loss = 9.91749\n",
      "Batch 10 : Average Loss = 9.91747\n",
      "Batch 11 : Average Loss = 9.91746\n",
      "Batch 12 : Average Loss = 9.91744\n",
      "Batch 13 : Average Loss = 9.91741\n",
      "Batch 14 : Average Loss = 9.91739\n",
      "Batch 15 : Average Loss = 9.91736\n",
      "Batch 16 : Average Loss = 9.91734\n",
      "Batch 17 : Average Loss = 9.91731\n",
      "Batch 18 : Average Loss = 9.91729\n",
      "Batch 19 : Average Loss = 9.91726\n",
      "Batch 20 : Average Loss = 9.9172\n",
      "Batch 21 : Average Loss = 9.91715\n",
      "Batch 22 : Average Loss = 9.9171\n",
      "Batch 23 : Average Loss = 9.91706\n",
      "Batch 24 : Average Loss = 9.91702\n",
      "Batch 25 : Average Loss = 9.91699\n",
      "Batch 26 : Average Loss = 9.91694\n",
      "Batch 27 : Average Loss = 9.91688\n",
      "Batch 28 : Average Loss = 9.91682\n",
      "Batch 29 : Average Loss = 9.91675\n",
      "Batch 30 : Average Loss = 9.91663\n",
      "Epoch 0 : Average Loss = 9.91663\n",
      "Batch 0 : Average Loss = 9.91036\n",
      "Batch 1 : Average Loss = 9.91023\n",
      "Batch 2 : Average Loss = 9.90967\n",
      "Batch 3 : Average Loss = 9.90938\n",
      "Batch 4 : Average Loss = 9.90913\n",
      "Batch 5 : Average Loss = 9.90897\n",
      "Batch 6 : Average Loss = 9.90889\n",
      "Batch 7 : Average Loss = 9.90865\n",
      "Batch 8 : Average Loss = 9.90855\n",
      "Batch 9 : Average Loss = 9.90843\n",
      "Batch 10 : Average Loss = 9.90824\n",
      "Batch 11 : Average Loss = 9.90811\n",
      "Batch 12 : Average Loss = 9.90784\n",
      "Batch 13 : Average Loss = 9.90762\n",
      "Batch 14 : Average Loss = 9.90752\n",
      "Batch 15 : Average Loss = 9.90738\n",
      "Batch 16 : Average Loss = 9.90728\n",
      "Batch 17 : Average Loss = 9.9071\n",
      "Batch 18 : Average Loss = 9.90686\n",
      "Batch 19 : Average Loss = 9.90667\n",
      "Batch 20 : Average Loss = 9.90654\n",
      "Batch 21 : Average Loss = 9.90639\n",
      "Batch 22 : Average Loss = 9.90624\n",
      "Batch 23 : Average Loss = 9.90619\n",
      "Batch 24 : Average Loss = 9.90604\n",
      "Batch 25 : Average Loss = 9.90597\n",
      "Batch 26 : Average Loss = 9.90584\n",
      "Batch 27 : Average Loss = 9.90575\n",
      "Batch 28 : Average Loss = 9.90564\n",
      "Batch 29 : Average Loss = 9.90554\n",
      "Batch 30 : Average Loss = 9.90505\n",
      "Epoch 1 : Average Loss = 9.90505\n",
      "Batch 0 : Average Loss = 9.8394\n",
      "Batch 1 : Average Loss = 9.83552\n",
      "Batch 2 : Average Loss = 9.83641\n",
      "Batch 3 : Average Loss = 9.8349\n",
      "Batch 4 : Average Loss = 9.83403\n",
      "Batch 5 : Average Loss = 9.83263\n",
      "Batch 6 : Average Loss = 9.83184\n",
      "Batch 7 : Average Loss = 9.83011\n",
      "Batch 8 : Average Loss = 9.82904\n",
      "Batch 9 : Average Loss = 9.82846\n",
      "Batch 10 : Average Loss = 9.82804\n",
      "Batch 11 : Average Loss = 9.82772\n",
      "Batch 12 : Average Loss = 9.82661\n",
      "Batch 13 : Average Loss = 9.82552\n",
      "Batch 14 : Average Loss = 9.82498\n",
      "Batch 15 : Average Loss = 9.82457\n",
      "Batch 16 : Average Loss = 9.82444\n",
      "Batch 17 : Average Loss = 9.8241\n",
      "Batch 18 : Average Loss = 9.82404\n",
      "Batch 19 : Average Loss = 9.82347\n",
      "Batch 20 : Average Loss = 9.82302\n",
      "Batch 21 : Average Loss = 9.82264\n",
      "Batch 22 : Average Loss = 9.82227\n",
      "Batch 23 : Average Loss = 9.82196\n",
      "Batch 24 : Average Loss = 9.82164\n",
      "Batch 25 : Average Loss = 9.8215\n",
      "Batch 26 : Average Loss = 9.82145\n",
      "Batch 27 : Average Loss = 9.82144\n",
      "Batch 28 : Average Loss = 9.82135\n",
      "Batch 29 : Average Loss = 9.82119\n",
      "Batch 30 : Average Loss = 9.82024\n",
      "Epoch 2 : Average Loss = 9.82024\n",
      "Batch 0 : Average Loss = 9.73884\n",
      "Batch 1 : Average Loss = 9.7334\n",
      "Batch 2 : Average Loss = 9.73508\n",
      "Batch 3 : Average Loss = 9.73606\n",
      "Batch 4 : Average Loss = 9.73642\n",
      "Batch 5 : Average Loss = 9.73646\n",
      "Batch 6 : Average Loss = 9.73665\n",
      "Batch 7 : Average Loss = 9.73663\n",
      "Batch 8 : Average Loss = 9.73658\n",
      "Batch 9 : Average Loss = 9.73743\n",
      "Batch 10 : Average Loss = 9.73753\n",
      "Batch 11 : Average Loss = 9.73712\n",
      "Batch 12 : Average Loss = 9.73611\n",
      "Batch 13 : Average Loss = 9.73529\n",
      "Batch 14 : Average Loss = 9.73511\n",
      "Batch 15 : Average Loss = 9.73498\n",
      "Batch 16 : Average Loss = 9.73521\n",
      "Batch 17 : Average Loss = 9.73453\n",
      "Batch 18 : Average Loss = 9.7345\n",
      "Batch 19 : Average Loss = 9.7348\n",
      "Batch 20 : Average Loss = 9.73457\n",
      "Batch 21 : Average Loss = 9.73448\n",
      "Batch 22 : Average Loss = 9.73448\n",
      "Batch 23 : Average Loss = 9.73433\n",
      "Batch 24 : Average Loss = 9.73409\n",
      "Batch 25 : Average Loss = 9.73421\n",
      "Batch 26 : Average Loss = 9.73424\n",
      "Batch 27 : Average Loss = 9.73449\n",
      "Batch 28 : Average Loss = 9.73424\n",
      "Batch 29 : Average Loss = 9.73416\n",
      "Batch 30 : Average Loss = 9.73397\n",
      "Epoch 3 : Average Loss = 9.73397\n",
      "Batch 0 : Average Loss = 9.71135\n",
      "Batch 1 : Average Loss = 9.71111\n",
      "Batch 2 : Average Loss = 9.70992\n",
      "Batch 3 : Average Loss = 9.71004\n",
      "Batch 4 : Average Loss = 9.71108\n",
      "Batch 5 : Average Loss = 9.71169\n",
      "Batch 6 : Average Loss = 9.71037\n",
      "Batch 7 : Average Loss = 9.71132\n",
      "Batch 8 : Average Loss = 9.71056\n",
      "Batch 9 : Average Loss = 9.71068\n",
      "Batch 10 : Average Loss = 9.70985\n",
      "Batch 11 : Average Loss = 9.71016\n",
      "Batch 12 : Average Loss = 9.70961\n",
      "Batch 13 : Average Loss = 9.70942\n",
      "Batch 14 : Average Loss = 9.70916\n",
      "Batch 15 : Average Loss = 9.7089\n",
      "Batch 16 : Average Loss = 9.70937\n",
      "Batch 17 : Average Loss = 9.7093\n",
      "Batch 18 : Average Loss = 9.70886\n",
      "Batch 19 : Average Loss = 9.70886\n",
      "Batch 20 : Average Loss = 9.70893\n",
      "Batch 21 : Average Loss = 9.70873\n",
      "Batch 22 : Average Loss = 9.70827\n",
      "Batch 23 : Average Loss = 9.7083\n",
      "Batch 24 : Average Loss = 9.70845\n",
      "Batch 25 : Average Loss = 9.70847\n",
      "Batch 26 : Average Loss = 9.70807\n",
      "Batch 27 : Average Loss = 9.70826\n",
      "Batch 28 : Average Loss = 9.70788\n",
      "Batch 29 : Average Loss = 9.70778\n",
      "Batch 30 : Average Loss = 9.70708\n",
      "Epoch 4 : Average Loss = 9.70708\n"
     ]
    }
   ],
   "source": [
    "\n",
    "vocab = dataset.word_to_idx\n",
    "len_vocab = len(vocab)\n",
    "#dataset, vocab = get_data(...)\n",
    "\n",
    "# build model and construct loss/optimizer\n",
    "cbow_model = CBOWModel(dataset, len_vocab, word_embeddings_hyperparameters['embedding_dim'], padding_idx=dataset.pad_idx)\n",
    "loss_fn = nn.CrossEntropyLoss()\n",
    "optimizer = optim.Adam(cbow_model.parameters(), lr=word_embeddings_hyperparameters['learning_rate'])\n",
    "\n",
    "# start training loop\n",
    "\n",
    "for epoch in range(word_embeddings_hyperparameters['epochs']):\n",
    "    loader =  get_loader(dataset, word_embeddings_hyperparameters['batch_size']) # in your script it was outside of the loop, it did not work here, is it because it's custom?\n",
    "    total_loss = 0\n",
    "    for i, batch in enumerate(loader):\n",
    "        context = batch.contexts\n",
    "        #target_word = batch.target_word\n",
    "        centers = batch.centers\n",
    "        #Note: this is not nessecary - the loss function understands.\n",
    "        #targets = torch.zeros(len(centers), len_vocab)\n",
    "        #for j, idx in enumerate(centers): #one hot encoding\n",
    "         #   targets[j][idx] = 1\n",
    "        \n",
    "        \n",
    "        # send your batch of sentences to the model\n",
    "        output = cbow_model(context)\n",
    "        \n",
    "        loss = loss_fn(output, centers)\n",
    "        total_loss += loss.item()\n",
    "        print(f'Batch {i} : Average Loss = {round(total_loss/(i+1),5)}')#, end='\\r')\n",
    "        \n",
    "        # calculate gradients\n",
    "        loss.backward()\n",
    "        # update model weights\n",
    "        optimizer.step()\n",
    "        # reset gradients\n",
    "        optimizer.zero_grad()\n",
    "\n",
    "    print(f'Epoch {epoch} : Average Loss = {round(total_loss/(i+1),5)}')#, end='\\r')"
   ]
  },
  {
   "cell_type": "markdown",
   "metadata": {},
   "source": [
    "## Evaluating the model"
   ]
  },
  {
   "cell_type": "markdown",
   "metadata": {},
   "source": [
    "We will evaluate the model on a dataset of word similarities, WordSim353 (http://alfonseca.org/eng/research/wordsim353.html , also avalable in vanvas under files/03-l). The first thing we need to do is read the dataset and translate it to integers. What we'll do is to reuse the ```Field``` that records word indexes (the second output of ```get_data()```) and use it to parse the file.\n",
    "\n",
    "The wordsim data is structured as follows:\n",
    "\n",
    "```\n",
    "word1 word2 score\n",
    "...\n",
    "```\n",
    "\n",
    "\n",
    "The ```Field``` we got from ```read_data()``` has two built-in functions, ```stoi``` which maps a string to an integer and ```itos``` which maps an integer to a string. \n",
    "\n",
    "What our datareader needs to do is: \n",
    "\n",
    "```\n",
    "for line in file:\n",
    "    word1, word2, score = file.split()\n",
    "    # encode word1 and word2 as integers\n",
    "    word1_idx = vocab.vocab.stoi[word1]\n",
    "    word2_idx = vocab.vocab.stoi[word2]\n",
    "```\n",
    "\n",
    "when we have the integers for ```word_1``` and ```word2``` we'll compute the similarity between their word embeddings with *cosine simlarity*. We can obtain the embeddings by querying the embedding layer of the model.\n",
    "\n",
    "We calculate the cosine similarity for each word pair in the dataset, then compute the pearson correlation between the similarities we obtained with the scores given in the dataset. \n",
    "\n",
    "[4 marks]"
   ]
  },
  {
   "cell_type": "code",
   "execution_count": 13,
   "metadata": {},
   "outputs": [
    {
     "name": "stdout",
     "output_type": "stream",
     "text": [
      "203\n",
      "203\n",
      "[[1.        0.2193537]\n",
      " [0.2193537 1.       ]]\n"
     ]
    }
   ],
   "source": [
    "# your code goes here\n",
    "gs_path = 'wordsim_similarity_goldstandard.txt'\n",
    "vocab = dataset\n",
    "embeddings = cbow_model.embeddings(centers)\n",
    "\n",
    "def read_wordsim(path, vocab, embeddings):\n",
    "    dataset_sims = []\n",
    "    model_sims = []\n",
    "    with open(path) as f:\n",
    "        for line in f:\n",
    "            word1, word2, score = line.split()\n",
    "        \n",
    "            score = float(score)\n",
    "            \n",
    "            # get the index for the word\n",
    "            word1_idx = vocab.word2idx(word1)     \n",
    "            word2_idx = vocab.word2idx(word2)\n",
    "                \n",
    "            dataset_sims.append(score)\n",
    "            \n",
    "            # just for testing purposes\n",
    "            # print(word1 + ': ' + str(word1_idx))\n",
    "            # print(word2 + ': ' + str(word2_idx))\n",
    "            \n",
    "            # get the embedding of the word\n",
    "            word1_emb = cbow_model.get_embedding(word1) # we do not need word indices\n",
    "            word2_emb = cbow_model.get_embedding(word2) \n",
    "            # print(word1_emb.size())\n",
    "            # print(word2_emb.size())\n",
    "            \n",
    "            # compute cosine similarity, we'll use the version included in pytorch functional\n",
    "            # https://pytorch.org/docs/master/generated/torch.nn.functional.cosine_similarity.html\n",
    "            cosine_similarity = F.cosine_similarity(word1_emb, word2_emb, dim=0)\n",
    "            \n",
    "            model_sims.append(cosine_similarity)\n",
    "    \n",
    "    return dataset_sims, model_sims\n",
    "\n",
    "data, model = read_wordsim(gs_path, vocab, embeddings)\n",
    "# checking if they are of the same length\n",
    "print(len(data))\n",
    "print(len(model))\n",
    "pearson_correlation = np.corrcoef(np.array(data).astype(float), np.array(model).astype(float))\n",
    "            \n",
    "# the non-diagonals give the pearson correlation,\n",
    "print(pearson_correlation)"
   ]
  },
  {
   "cell_type": "markdown",
   "metadata": {},
   "source": [
    "Do you think the model performs good or bad? Why?\n",
    "\n",
    "[3 marks]"
   ]
  },
  {
   "cell_type": "markdown",
   "metadata": {},
   "source": [
    "Pearson's coefficient spans between -1 and 1, with -1 being a strong negative association, 1 being strong positive association, and 0 being no association. Since our association seems to be around 0.20-0.30 (0.28 on one run, 0.24, 0.26, 0.21 on subsequent ones), it is not horribly bad. According to [https://statistics.laerd.com/statistical-guides/pearson-correlation-coefficient-statistical-guide.php] it is in the upper range of small positive association - almost on the verge of being medium. This means that there is some level of similarity between the gold standard judgements and the word embedding similarities. Since the embedding models are supposed to reflect similarities between words, this is not terribly bad, but naturally the higher the performance, the better. The difference may be due to the kind of data we created our embeddings on or the low number of epochs, but also due to human judgements (which I assume the gold standard to be) taking into account features other than the embeddings do. "
   ]
  },
  {
   "cell_type": "markdown",
   "metadata": {},
   "source": [
    "Select the 10 best and 10 worst performing word pairs, can you see any patterns that explain why *these* are the best and worst word pairs?\n",
    "\n",
    "[3 marks]"
   ]
  },
  {
   "cell_type": "code",
   "execution_count": 14,
   "metadata": {},
   "outputs": [
    {
     "name": "stdout",
     "output_type": "stream",
     "text": [
      "The top 10 best performing pairs of words are:\n",
      "\ttiger, jaguar: 1.0\n",
      "\ttiger, feline: 1.0\n",
      "\ttiger, carnivore: 1.0\n",
      "\ttiger, fauna: 1.0\n",
      "\tJapanese, American: 1.0\n",
      "\tHarvard, Yale: 1.0\n",
      "\tmarathon, sprint: 1.0\n",
      "\tMexico, Brazil: 1.0\n",
      "\tlad, wizard: 1.0\n",
      "\n",
      "The bottom 10 worst performing pairs of words are:\n",
      "\tglass, metal: -0.19986365735530853\n",
      "\tprejudice, recognition: -0.18676652014255524\n",
      "\tfurnace, stove: -0.1763983964920044\n",
      "\tstock, life: -0.16177649796009064\n",
      "\tstudent, professor: -0.16148246824741364\n",
      "\tmoney, dollar: -0.15977391600608826\n",
      "\tstart, match: -0.14963378012180328\n",
      "\tatmosphere, landscape: -0.14533473551273346\n",
      "\tfocus, life: -0.14354568719863892\n"
     ]
    }
   ],
   "source": [
    "lens = len(data)\n",
    "sim_dict = {}\n",
    "word_pairs = []\n",
    "sorted_list = []\n",
    "\n",
    "with open(gs_path) as f:\n",
    "    for line in f:\n",
    "        word1, word2, score = line.split()\n",
    "        word_pairs.append((word1, word2))\n",
    "\n",
    "for i in range(0, lens):\n",
    "    sim_dict[word_pairs[i]] = model[i].tolist()\n",
    "    \n",
    "sorted_dict = dict(sorted(sim_dict.items(), key=lambda item: item[1]))\n",
    "for k,v in sorted_dict.items():\n",
    "    sorted_list.append((k,v))\n",
    "\n",
    "bottom10 = sorted_list[:9]\n",
    "top10 = sorted_list[-9:]\n",
    "\n",
    "print(f'The top 10 best performing pairs of words are:')\n",
    "for element in top10:\n",
    "    words, score = element\n",
    "    word1, word2 = words\n",
    "    print(f'\\t{word1}, {word2}: {score}')\n",
    "\n",
    "print()\n",
    "print(f'The bottom 10 worst performing pairs of words are:')\n",
    "for element in bottom10:\n",
    "    words, score = element\n",
    "    word1, word2 = words\n",
    "    print(f'\\t{word1}, {word2}: {score}')\n",
    "    "
   ]
  },
  {
   "cell_type": "markdown",
   "metadata": {},
   "source": [
    "As for the best performing pairs, there is quite some semantic similarity in the pairs, although they are not synonymous. Tigers and jaguars are both big cats, tigers are felines, they are carnivores, and they are fauna. Japanese and American are both nationalities (or nation-related adjectives). Harvard and Yale are both solid American universities. Marathon and sprint are types of races. Mexico and Brazil are both countries. A lad and a wizard are male human beings. Obviously these words are not interchangeable (tigers do not live where jaguars do, a marathon and sprint have different lengths or speeds), but there is significant overlap in what they are related to. They are all 1 because these words probably do not exist in the model, and are assigned the unk embedding in this case. This means that we essentially compare unk to unk, so its similarity is 1.\n",
    "\n",
    "In the bottom pairs there are some surprising ones, like football and basketball or football and tennis (both sports), tiger and mammal (both categories of animals), car and automobile (both vehicles). The rest seem less related indeed. I would guess that the contexts in which these words appeared in the training data made them distinctive enough not to be classified together. It could also be because of how unknown words are treated in the model.  \n",
    "\n",
    "It is worth noting that re-running the model gives slightly different results. The discussion pertains to the first time we ran and evaluated it. The second time the top results were the same, but the bottom ones were different - though, once more, some of them have something semantically in common (money, cash) and some do not (delay, news). "
   ]
  },
  {
   "cell_type": "markdown",
   "metadata": {},
   "source": [
    "Suggest some ways of improving the model we apply to WordSim353.\n",
    "\n",
    "[3 marks]"
   ]
  },
  {
   "cell_type": "markdown",
   "metadata": {},
   "source": [
    "+ More attention could be paid to the kind of sources we use for training data (more data, make sure that many semantic fields are covered by it).\n",
    "+ Having the model go through more epochs could also help (but not too many to avoid overfitting!).\n",
    "+ We did not implement dropout here, and that perhaps could also affect the performance.\n",
    "+ We should curate the things in the dataset more, eliminate more symbols, non-English words, etc."
   ]
  },
  {
   "cell_type": "markdown",
   "metadata": {},
   "source": [
    "If we consider a scenario where we use these embeddings in a downstream task, for example sentiment analysis (roughly: determining whether a sentence is positive or negative). \n",
    "\n",
    "Give some examples why the sentiment analysis model would benefit from our embeddnings and one examples why our embeddings could hur the performance of the sentiment model.\n",
    "\n",
    "[3 marks]"
   ]
  },
  {
   "cell_type": "code",
   "execution_count": 15,
   "metadata": {},
   "outputs": [
    {
     "name": "stdout",
     "output_type": "stream",
     "text": [
      "{('glass', 'metal'): -0.19986365735530853, ('prejudice', 'recognition'): -0.18676652014255524, ('furnace', 'stove'): -0.1763983964920044, ('stock', 'life'): -0.16177649796009064, ('student', 'professor'): -0.16148246824741364, ('money', 'dollar'): -0.15977391600608826, ('start', 'match'): -0.14963378012180328, ('atmosphere', 'landscape'): -0.14533473551273346, ('focus', 'life'): -0.14354568719863892, ('tiger', 'cat'): -0.14150068163871765, ('jaguar', 'cat'): -0.14150068163871765, ('money', 'cash'): -0.13782566785812378, ('coast', 'hill'): -0.13708123564720154, ('psychology', 'science'): -0.12601347267627716, ('drink', 'eat'): -0.11793430894613266, ('Mars', 'water'): -0.1122869923710823, ('life', 'death'): -0.11007411777973175, ('chance', 'credibility'): -0.10980375111103058, ('man', 'woman'): -0.10980095714330673, ('noon', 'string'): -0.10851550102233887, ('lobster', 'wine'): -0.10829690098762512, ('five', 'month'): -0.10324104130268097, ('population', 'development'): -0.10204760730266571, ('computer', 'news'): -0.09964706748723984, ('calculation', 'computation'): -0.09731731563806534, ('monk', 'slave'): -0.09652594476938248, ('shower', 'thunderstorm'): -0.09346501529216766, ('investigation', 'effort'): -0.09326599538326263, ('Wednesday', 'news'): -0.08637383580207825, ('dollar', 'yen'): -0.08561749011278152, ('dollar', 'buck'): -0.08561749011278152, ('television', 'radio'): -0.08327937871217728, ('dividend', 'payment'): -0.08069207519292831, ('street', 'place'): -0.08007043600082397, ('forest', 'graveyard'): -0.08005839586257935, ('boy', 'lad'): -0.07956892251968384, ('glass', 'magician'): -0.07924491167068481, ('situation', 'isolation'): -0.07686328887939453, ('planet', 'sun'): -0.07438427209854126, ('practice', 'institution'): -0.07427191734313965, ('lad', 'brother'): -0.07281313091516495, ('development', 'issue'): -0.07268740236759186, ('seafood', 'food'): -0.07230467349290848, ('situation', 'conclusion'): -0.07187642902135849, ('type', 'kind'): -0.07149577140808105, ('space', 'chemistry'): -0.06391771137714386, ('professor', 'doctor'): -0.06209070235490799, ('seafood', 'lobster'): -0.056594811379909515, ('chord', 'smile'): -0.055446725338697433, ('board', 'recommendation'): -0.05479944124817848, ('century', 'year'): -0.05375923588871956, ('media', 'trading'): -0.05332089960575104, ('music', 'project'): -0.052301596850156784, ('planet', 'star'): -0.05173566937446594, ('liquid', 'water'): -0.048123281449079514, ('king', 'rook'): -0.04699549078941345, ('king', 'cabbage'): -0.04699549078941345, ('announcement', 'production'): -0.04677712544798851, ('precedent', 'collection'): -0.044727813452482224, ('cucumber', 'potato'): -0.04429246485233307, ('murder', 'manslaughter'): -0.04212167486548424, ('opera', 'industry'): -0.04083789139986038, ('attempt', 'peace'): -0.039767976850271225, ('football', 'tennis'): -0.038704972714185715, ('jaguar', 'car'): -0.03689102083444595, ('precedent', 'antecedent'): -0.033445458859205246, ('bread', 'butter'): -0.033345241099596024, ('image', 'surface'): -0.03322834521532059, ('sign', 'recess'): -0.03200976178050041, ('production', 'hike'): -0.03077767975628376, ('journey', 'voyage'): -0.025813749060034752, ('media', 'radio'): -0.02414853125810623, ('bird', 'cock'): -0.02337978035211563, ('peace', 'atmosphere'): -0.02087271399796009, ('cup', 'artifact'): -0.019453387707471848, ('problem', 'airport'): -0.019334178417921066, ('start', 'year'): -0.01838449388742447, ('fuck', 'sex'): -0.01585325598716736, ('rooster', 'voyage'): -0.015114765614271164, ('experience', 'music'): -0.012330446392297745, ('cup', 'article'): -0.012205563485622406, ('car', 'flight'): -0.01160218846052885, ('school', 'center'): -0.010717688128352165, ('direction', 'combination'): -0.010220270603895187, ('precedent', 'group'): -0.008228861726820469, ('man', 'governor'): -0.007257305551320314, ('drink', 'ear'): -0.007064057979732752, ('food', 'rooster'): -0.005150629673153162, ('lobster', 'food'): -0.005150629673153162, ('cell', 'phone'): -0.00478570070117712, ('food', 'fruit'): -0.003671446815133095, ('precedent', 'cognition'): -0.002052054274827242, ('morality', 'marriage'): -7.353989349212497e-05, ('rock', 'jazz'): 0.004502063617110252, ('psychology', 'discipline'): 0.004995432216674089, ('monk', 'oracle'): 0.005789350252598524, ('tiger', 'mammal'): 0.00684881117194891, ('month', 'hotel'): 0.006893120240420103, ('mile', 'kilometer'): 0.007128112483769655, ('life', 'term'): 0.008094007149338722, ('museum', 'theater'): 0.009108493104577065, ('aluminum', 'metal'): 0.010631832294166088, ('stock', 'egg'): 0.010889716446399689, ('reason', 'hypertension'): 0.014902480877935886, ('street', 'avenue'): 0.01518779993057251, ('cup', 'substance'): 0.015603598207235336, ('possibility', 'girl'): 0.017161399126052856, ('king', 'queen'): 0.018451541662216187, ('sugar', 'approach'): 0.019491497427225113, ('ministry', 'culture'): 0.020852381363511086, ('word', 'similarity'): 0.021287985146045685, ('volunteer', 'motto'): 0.021307429298758507, ('profit', 'loss'): 0.021758047863841057, ('cup', 'object'): 0.02304116263985634, ('stock', 'CD'): 0.02386040985584259, ('stock', 'jaguar'): 0.02386040985584259, ('delay', 'news'): 0.025644570589065552, ('precedent', 'information'): 0.025672322139143944, ('drink', 'mother'): 0.027040677145123482, ('wood', 'forest'): 0.02846561186015606, ('peace', 'insurance'): 0.030220480635762215, ('cup', 'entity'): 0.030966181308031082, ('observation', 'architecture'): 0.0326116569340229, ('cemetery', 'woodland'): 0.03409815952181816, ('benchmark', 'index'): 0.03838331997394562, ('tiger', 'animal'): 0.03855358064174652, ('drink', 'car'): 0.04027193412184715, ('media', 'gain'): 0.04199213534593582, ('minority', 'peace'): 0.04510912671685219, ('football', 'basketball'): 0.045724447816610336, ('energy', 'secretary'): 0.046366073191165924, ('cup', 'tableware'): 0.047271423041820526, ('cup', 'food'): 0.047519750893116, ('consumer', 'energy'): 0.0511213019490242, ('precedent', 'example'): 0.054588258266448975, ('tiger', 'organism'): 0.056312549859285355, ('line', 'insurance'): 0.06031307950615883, ('announcement', 'news'): 0.060808565467596054, ('car', 'automobile'): 0.0627652257680893, ('listing', 'proximity'): 0.06507272273302078, ('championship', 'tournament'): 0.06532347202301025, ('opera', 'performance'): 0.06563559174537659, ('consumer', 'confidence'): 0.06576880067586899, ('street', 'block'): 0.06815358251333237, ('street', 'children'): 0.06955406814813614, ('profit', 'warning'): 0.07038441300392151, ('holy', 'sex'): 0.08100693672895432, ('viewer', 'serial'): 0.08187388628721237, ('train', 'car'): 0.08226414024829865, ('planet', 'moon'): 0.08605599403381348, ('coast', 'shore'): 0.08616882562637329, ('psychology', 'psychiatry'): 0.08719641715288162, ('delay', 'racism'): 0.08886357396841049, ('doctor', 'personnel'): 0.09062657505273819, ('century', 'nation'): 0.09220898151397705, ('professor', 'cucumber'): 0.09242980182170868, ('stock', 'live'): 0.09533321112394333, ('plane', 'car'): 0.1018114760518074, ('journal', 'association'): 0.10508782416582108, ('peace', 'plan'): 0.10896223783493042, ('seven', 'series'): 0.11258634179830551, ('physics', 'chemistry'): 0.11753055453300476, ('football', 'soccer'): 0.12450418621301651, ('governor', 'interview'): 0.12756261229515076, ('deployment', 'departure'): 0.1279468536376953, ('morality', 'importance'): 0.1280016005039215, ('skin', 'eye'): 0.12821762263774872, ('bird', 'crane'): 0.13096556067466736, ('announcement', 'effort'): 0.13417145609855652, ('hospital', 'infrastructure'): 0.13948699831962585, ('shore', 'woodland'): 0.15359723567962646, ('travel', 'activity'): 0.15706010162830353, ('bishop', 'rabbi'): 0.16523399949073792, ('phone', 'equipment'): 0.16817444562911987, ('president', 'medal'): 0.1682046353816986, ('doctor', 'nurse'): 0.1713578701019287, ('crane', 'implement'): 0.17467369139194489, ('stock', 'phone'): 0.18409374356269836, ('money', 'currency'): 0.191672682762146, ('architecture', 'century'): 0.20265628397464752, ('theater', 'history'): 0.20311585068702698, ('money', 'operation'): 0.20419470965862274, ('smart', 'student'): 0.22361211478710175, ('report', 'gain'): 0.26729094982147217, ('coast', 'forest'): 0.27627092599868774, ('tiger', 'tiger'): 1.0, ('smart', 'stupid'): 1.0, ('Arafat', 'Jackson'): 1.0, ('vodka', 'gin'): 1.0, ('vodka', 'brandy'): 1.0, ('gem', 'jewel'): 1.0, ('asylum', 'madhouse'): 1.0, ('magician', 'wizard'): 1.0, ('midday', 'noon'): 1.0, ('tiger', 'jaguar'): 1.0, ('tiger', 'feline'): 1.0, ('tiger', 'carnivore'): 1.0, ('tiger', 'fauna'): 1.0, ('Japanese', 'American'): 1.0, ('Harvard', 'Yale'): 1.0, ('marathon', 'sprint'): 1.0, ('Mexico', 'Brazil'): 1.0, ('lad', 'wizard'): 1.0}\n"
     ]
    }
   ],
   "source": [
    "print(sorted_dict)"
   ]
  },
  {
   "cell_type": "code",
   "execution_count": 16,
   "metadata": {},
   "outputs": [
    {
     "name": "stdout",
     "output_type": "stream",
     "text": [
      "happy, sad: 0.06342647969722748\n",
      "happy, glad: 0.06342647969722748\n",
      "good, bad: 0.0655820369720459\n",
      "good, great: -0.09858870506286621\n",
      "useful, useless: -0.02140018716454506\n",
      "useful, handy: 0.11870595812797546\n",
      "smart, stupid: 1.0\n",
      "smart, brilliant: -0.015182978473603725\n"
     ]
    }
   ],
   "source": [
    "word_pairs = [('happy','sad'),('happy','glad'),('good','bad'),('good','great'),('useful','useless'),('useful','handy'),\n",
    "              ('smart','stupid'),('smart','brilliant')]\n",
    "\n",
    "for pair in word_pairs:\n",
    "    word1, word2 = pair\n",
    "    word1_emb = cbow_model.get_embedding(word1)  \n",
    "    word2_emb = cbow_model.get_embedding(word2) \n",
    "            \n",
    "    cosine_similarity = F.cosine_similarity(word1_emb, word2_emb, dim=0)\n",
    "\n",
    "    print(f'{word1}, {word2}: {cosine_similarity}')"
   ]
  },
  {
   "cell_type": "markdown",
   "metadata": {},
   "source": [
    "If we print the whole similarities dictionary, we can notice that there are pairs that are rated as very similar, but that would have different polarity when it comes to sentiment analysis (one is positive, one is negative), e.g. smart and stupid (1.0), profit and loss (0.05 - okay, this is not much but it's positive at least). I have also constructed some word pairs where the first (positive word) gets paired with a negative word, and later with a positive word close in meaning.  \n",
    "+ happy vs. sad vs. glad: the scores are the same (and low)\n",
    "+ good vs. bad vs. great: the scores are low, and the pair with both positive words seems even more dissimilar.\n",
    "+ useful vs. useless vs. handy: the scores are relatively low, the pair of positive words has a slightly better score.\n",
    "+ smart vs. stupid vs. brilliant: the scores are high, but the pair of both positive words has a lower score.  \n",
    "\n",
    "It seems like the model is not good at recognizing positive or negative sentiment, so in this way it would be bad.\n",
    "\n",
    "If we were trying to determine the semantic field of the comment or text, our model would be better, as in numerous cases it rates words from the same semantic field pretty high."
   ]
  },
  {
   "cell_type": "markdown",
   "metadata": {},
   "source": [
    "# Language modeling"
   ]
  },
  {
   "cell_type": "markdown",
   "metadata": {},
   "source": [
    "In this second part we'll build a simple LSTM language model. Your task is to construct a model which takes a sentence as input and predict the next word for each word in the sentence. For this you'll use the ```LSTM``` class provided by PyTorch (https://pytorch.org/docs/stable/generated/torch.nn.LSTM.html). You can read more about the LSTM here: https://colah.github.io/posts/2015-08-Understanding-LSTMs/\n",
    "\n",
    "NOTE!!!: Use the same dataset (wiki-cropus.txt) as before.\n",
    "\n",
    "Our setup is similar to before, we first encode the words as distributed representations then pass these to the LSTM and for each output we predict the next word.\n",
    "\n",
    "For this we'll build a new dataloader with torchtext, the file we pass to the dataloader should contain one sentence per line, with words separated by whitespace.\n",
    "\n",
    "```\n",
    "word_1, ..., word_n\n",
    "word_1, ..., word_k\n",
    "...\n",
    "```\n",
    "\n",
    "in this dataloader you want to make sure that each sentence begins with a ```<start>``` token and ends with a ```<end>``` token, there is a keyword argument in ```Field``` for this :). But other than that, as before you read the dataset and output a iterator over the dataset and a vocabulary. \n",
    "\n",
    "Implement the dataloader, language model and the training loop (the training loop will basically be the same as for word2vec).\n",
    "\n",
    "[12 marks]"
   ]
  },
  {
   "cell_type": "code",
   "execution_count": 17,
   "metadata": {},
   "outputs": [],
   "source": [
    "data_path = './wiki-corpus.50000.txt'\n",
    "raw_texts = corpus_reader(data_path)"
   ]
  },
  {
   "cell_type": "code",
   "execution_count": 18,
   "metadata": {},
   "outputs": [
    {
     "data": {
      "text/plain": [
       "['Anarchist historian George Woodcock reports that \" The annual Congress of the International had not taken place in 1870 owing to the outbreak of the Paris Commune , and in 1871 the General Council called only a special conference in London .',\n",
       " 'A bomb was thrown by an unknown party near the conclusion of the rally , killing an officer .',\n",
       " 'In the ensuing panic , police opened fire on the crowd and each other .',\n",
       " 'Josiah Warren is widely regarded as the first American anarchist , and the four-page weekly paper he edited during 1833 , The Peaceful Revolutionist , was the first anarchist periodical published .',\n",
       " 'Weak central coherence theory hypothesizes that a limited ability to see the big picture underlies the central disturbance in autism .',\n",
       " \"The word autism first took its modern sense in 1938 when Hans Asperger of the Vienna University Hospital adopted Bleuler 's terminology autistic psychopaths in a lecture in German about child psychology .\",\n",
       " 'Most land areas are in an albedo range of 0.1 to 0.4 .',\n",
       " 'Now expanded to nine , these include the Poarch Band of Creek Indians , MOWA Band of Choctaw Indians , Star Clan of Muscogee Creeks , Echota Cherokee Tribe of Alabama , Cherokees of Northeast Alabama , Cherokees of Southeast Alabama , Ma-Chis Lower Creek Indian Tribe , Piqua Sept of Ohio Shawnee Tribe , and United Cherokee Ani-Yun-Wiya Nation .',\n",
       " 'Of those who indicated a religious preference , 59 % said they possessed a \" full understanding \" of their faith and needed no further learning .',\n",
       " 'Once he realized that his distraction was endangering his life , he refocused and killed her .']"
      ]
     },
     "execution_count": 18,
     "metadata": {},
     "output_type": "execute_result"
    }
   ],
   "source": [
    "# each row in our raw_texts contain one sentence.\n",
    "raw_texts[0:10]"
   ]
  },
  {
   "cell_type": "code",
   "execution_count": 19,
   "metadata": {},
   "outputs": [],
   "source": [
    "# Implement custom torch Dataset\n",
    "class LMDataset(Dataset):\n",
    "    \n",
    "    def __init__(self,\n",
    "                 sentences,\n",
    "                 tokenizer=None,\n",
    "                 lower=True,\n",
    "                 min_freq=0,\n",
    "                 unk_label='<unk>',\n",
    "                 pad_label='<pad>',\n",
    "                 start_label='<start>',\n",
    "                 end_label='<end>'):\n",
    "        \n",
    "        \"\"\"\n",
    "        raw_texts: list of texts\n",
    "        \"\"\"\n",
    "        \n",
    "        \n",
    "        self.window_size= 4\n",
    "        self.min_freq = min_freq\n",
    "        self.unk_label, self.unk_idx = unk_label, 0\n",
    "        self.pad_label, self.pad_idx = pad_label, 1\n",
    "        self.start_label, self.start_idx = start_label, 2\n",
    "        self.end_label, self.end_idx = end_label, 3\n",
    "        \n",
    "        \n",
    "        if tokenizer is None:\n",
    "            self.tokenizer = lambda x: x.replace('.',' ').replace(',', ' ').replace('\"', ' ').split() #simple punctuation and whitespace\n",
    "        self.lower = lower\n",
    "        \n",
    "        # Load Data\n",
    "        #self.center, self.context = self.__load_tsv(self.tsv_path)\n",
    "        #self.center, self.context = self.create_dataset(raw_texts)\n",
    "        self.sentences = [[self.start_label]+self.tokenize(s)+[self.end_label] for s in sentences]\n",
    "        \n",
    "        # Vocabulary\n",
    "        self.word_to_idx = dict()\n",
    "        self.word_to_idx[self.unk_label] = self.unk_idx\n",
    "        self.word_to_idx[self.pad_label] = self.pad_idx\n",
    "        self.word_to_idx[self.start_label] = self.start_idx\n",
    "        self.word_to_idx[self.end_label] = self.end_idx\n",
    "        self.word_to_idx.update({word:idx+max(self.word_to_idx.values())+1 for idx, word in enumerate(self.unique_words()) \n",
    "                                 if (word not in [self.unk_label, self.pad_idx, self.start_idx, self.end_idx])})\n",
    "\n",
    "        # Word Counts\n",
    "        # center represents every instance of every word in the text\n",
    "        #self.word_counts = pd.value_counts(self.center).to_dict()\n",
    "        \n",
    "        # Apply min_freq, doesnt work\n",
    "        #if min_freq:\n",
    "        #    word_counts_over_min_freq = {k:v for k,v in self.word_counts.items() if v >= min_freq}\n",
    "        #    self.word_to_idx = {k:v for k,v in self.word_to_idx.items() if ((k in word_counts_over_min_freq) or k in [unk_label, pad_label])}\n",
    "            \n",
    "        self.idx_to_word = {v:k for k,v in self.word_to_idx.items()}\n",
    "        \n",
    "        # Numericalize\n",
    "        # Note I will do this in data_loader.\n",
    "        #self.center = np.array([self.numericalize(w) for w in self.center])\n",
    "        #self.context = np.array([np.array([self.numericalize(w) for w in sent]) for sent in self.context], dtype='object')\n",
    "        \n",
    "    def unique_words(self):\n",
    "        all_words = []\n",
    "        for s in self.sentences:\n",
    "            all_words += s\n",
    "        return np.unique(all_words)\n",
    "    \n",
    "    def tokenize(self, string):\n",
    "        if self.lower:\n",
    "            string = string.lower()\n",
    "        return self.tokenizer(string)\n",
    "\n",
    "    def idx2word(self, idx_or_list):\n",
    "        try:\n",
    "            len(idx_or_list)\n",
    "            return [self.idx_to_word.get(idx, self.unk_label) for idx in idx_or_list]\n",
    "        except:\n",
    "            return self.idx_to_word.get(idx_or_list, self.unk_label)\n",
    "    \n",
    "    def word2idx(self, word_or_list):\n",
    "        \n",
    "        if isinstance(word_or_list, str):\n",
    "            return self.word_to_idx.get(word_or_list, self.unk_idx)\n",
    "        else:\n",
    "            return [self.word_to_idx.get(w, self.unk_idx) for w in word_or_list]\n",
    "        \n",
    "    def get_shuffled_data(self, seed=None): \n",
    "        np.random.seed(seed)\n",
    "        \n",
    "        rng = np.arange(len(self))\n",
    "        np.random.shuffle(rng)\n",
    "        return self.sentences[rng]\n",
    "        \n",
    "    def __getitem__(self, idx):\n",
    "        return self.sentences[idx]\n",
    "    \n",
    "    def __len__(self):\n",
    "        return len(self.sentences)\n",
    "    \n"
   ]
  },
  {
   "cell_type": "code",
   "execution_count": 20,
   "metadata": {},
   "outputs": [
    {
     "name": "stdout",
     "output_type": "stream",
     "text": [
      "[['<start>', 'a', 'bomb', 'was', 'thrown', 'by', 'an', 'unknown', 'party', '<end>'], ['<start>', 'coherence', 'theory', 'hypothesizes', 'that', 'a', 'limited', '<end>'], ['<start>', 'a', 'bomb', 'was', 'thrown', 'by', 'an', 'unknown', 'party', '<end>'], ['<start>', 'coherence', 'theory', 'hypothesizes', 'that', 'a', 'limited', '<end>']]\n",
      "{'<unk>': 0, '<pad>': 1, '<start>': 5, '<end>': 4, 'a': 6, 'an': 7, 'bomb': 8, 'by': 9, 'coherence': 10, 'hypothesizes': 11, 'limited': 12, 'party': 13, 'that': 14, 'theory': 15, 'thrown': 16, 'unknown': 17, 'was': 18}\n"
     ]
    }
   ],
   "source": [
    "test_sentences = ['A bomb was thrown by an unknown party.', 'coherence theory, hypothesizes that a limited.', 'A bomb was thrown by an unknown party.', 'coherence theory, hypothesizes that a limited.']\n",
    "test_dataset = LMDataset(test_sentences)\n",
    "print(test_dataset.sentences)\n",
    "print(test_dataset.word_to_idx)"
   ]
  },
  {
   "cell_type": "code",
   "execution_count": 21,
   "metadata": {},
   "outputs": [
    {
     "data": {
      "text/plain": [
       "array(['<end>', '<start>', 'a', 'an', 'bomb', 'by', 'coherence',\n",
       "       'hypothesizes', 'limited', 'party', 'that', 'theory', 'thrown',\n",
       "       'unknown', 'was'], dtype='<U12')"
      ]
     },
     "execution_count": 21,
     "metadata": {},
     "output_type": "execute_result"
    }
   ],
   "source": [
    "test_dataset.unique_words()"
   ]
  },
  {
   "cell_type": "code",
   "execution_count": 22,
   "metadata": {},
   "outputs": [],
   "source": [
    "# Try using pytorch DataLoader\n",
    "from torch.nn.utils.rnn import pad_sequence \n",
    "class Collate():\n",
    "    def __init__(self, word_to_idx, pad_idx, batch_first=True):\n",
    "        self.pad_idx = pad_idx\n",
    "        self.batch_first = batch_first\n",
    "        self.word_to_idx = word_to_idx\n",
    "    def __call__(self, batch):\n",
    "        batch = [torch.tensor([self.word_to_idx[w] for w in s]) for s in batch]\n",
    "        batch = pad_sequence(batch, batch_first=self.batch_first, padding_value=self.pad_idx)\n",
    "        return batch\n",
    "\n",
    "def get_loader(dataset, batch_size=16, shuffle=True):\n",
    "    return DataLoader(dataset, shuffle=shuffle, batch_size=batch_size, collate_fn=Collate(dataset.word_to_idx, dataset.pad_idx))"
   ]
  },
  {
   "cell_type": "code",
   "execution_count": 23,
   "metadata": {},
   "outputs": [
    {
     "name": "stdout",
     "output_type": "stream",
     "text": [
      "tensor([[ 5,  6,  8, 18, 16,  9,  7, 17, 13,  4],\n",
      "        [ 5, 10, 15, 11, 14,  6, 12,  4,  1,  1]])\n",
      "tensor([[ 5,  6,  8, 18, 16,  9,  7, 17, 13,  4],\n",
      "        [ 5, 10, 15, 11, 14,  6, 12,  4,  1,  1]])\n"
     ]
    }
   ],
   "source": [
    "test_loader = get_loader(test_dataset, batch_size=2, shuffle=False)\n",
    "for i in test_loader:\n",
    "    print(i)\n",
    "    \n",
    "# pad_idx = 1"
   ]
  },
  {
   "cell_type": "code",
   "execution_count": 24,
   "metadata": {},
   "outputs": [],
   "source": [
    "# you can change these numbers to suit your needs as before :)\n",
    "lm_hyperparameters = {'epochs':3,\n",
    "                      'batch_size':16,\n",
    "                      'learning_rate':0.001,\n",
    "                      'embedding_dim':128,\n",
    "                      'output_dim':128}"
   ]
  },
  {
   "cell_type": "code",
   "execution_count": 25,
   "metadata": {},
   "outputs": [],
   "source": [
    "class LM_withLSTM(nn.Module):\n",
    "    def __init__(self, vocab_size, embedding_dim, output_dim, padding_idx=None):\n",
    "        super().__init__()\n",
    "        self.embeddings = nn.Embedding(vocab_size, embedding_dim, padding_idx=padding_idx)\n",
    "        self.LSTM = nn.LSTM(input_size=embedding_dim, hidden_size=output_dim, num_layers=1)\n",
    "        self.predict_word = nn.Linear(output_dim, vocab_size)\n",
    "    \n",
    "    def forward(self, seq):\n",
    "        embedded_seq = self.embeddings(seq)\n",
    "        timestep_representation, *_ = self.LSTM(embedded_seq)\n",
    "        predicted_words = self.predict_word(timestep_representation)\n",
    "        \n",
    "        return predicted_words"
   ]
  },
  {
   "cell_type": "code",
   "execution_count": 26,
   "metadata": {},
   "outputs": [
    {
     "ename": "RuntimeError",
     "evalue": "Expected all tensors to be on the same device, but found at least two devices, cuda:0 and cpu! (when checking arugment for argument index in method wrapper_index_select)",
     "output_type": "error",
     "traceback": [
      "\u001b[0;31m---------------------------------------------------------------------------\u001b[0m",
      "\u001b[0;31mRuntimeError\u001b[0m                              Traceback (most recent call last)",
      "\u001b[0;32m/tmp/ipykernel_2294113/2449681131.py\u001b[0m in \u001b[0;36m<module>\u001b[0;34m\u001b[0m\n\u001b[1;32m     33\u001b[0m \u001b[0;34m\u001b[0m\u001b[0m\n\u001b[1;32m     34\u001b[0m         \u001b[0;31m# send your batch of sentences to the model\u001b[0m\u001b[0;34m\u001b[0m\u001b[0;34m\u001b[0m\u001b[0m\n\u001b[0;32m---> 35\u001b[0;31m         \u001b[0moutput\u001b[0m \u001b[0;34m=\u001b[0m \u001b[0mlm_model\u001b[0m\u001b[0;34m(\u001b[0m\u001b[0minput_sentence\u001b[0m\u001b[0;34m)\u001b[0m\u001b[0;34m\u001b[0m\u001b[0;34m\u001b[0m\u001b[0m\n\u001b[0m\u001b[1;32m     36\u001b[0m \u001b[0;34m\u001b[0m\u001b[0m\n\u001b[1;32m     37\u001b[0m         \u001b[0;31m# for each output, the model predict the NEXT token, so we have to reshape\u001b[0m\u001b[0;34m\u001b[0m\u001b[0;34m\u001b[0m\u001b[0m\n",
      "\u001b[0;32m/usr/local/lib64/python3.9/site-packages/torch/nn/modules/module.py\u001b[0m in \u001b[0;36m_call_impl\u001b[0;34m(self, *input, **kwargs)\u001b[0m\n\u001b[1;32m   1049\u001b[0m         if not (self._backward_hooks or self._forward_hooks or self._forward_pre_hooks or _global_backward_hooks\n\u001b[1;32m   1050\u001b[0m                 or _global_forward_hooks or _global_forward_pre_hooks):\n\u001b[0;32m-> 1051\u001b[0;31m             \u001b[0;32mreturn\u001b[0m \u001b[0mforward_call\u001b[0m\u001b[0;34m(\u001b[0m\u001b[0;34m*\u001b[0m\u001b[0minput\u001b[0m\u001b[0;34m,\u001b[0m \u001b[0;34m**\u001b[0m\u001b[0mkwargs\u001b[0m\u001b[0;34m)\u001b[0m\u001b[0;34m\u001b[0m\u001b[0;34m\u001b[0m\u001b[0m\n\u001b[0m\u001b[1;32m   1052\u001b[0m         \u001b[0;31m# Do not call functions when jit is used\u001b[0m\u001b[0;34m\u001b[0m\u001b[0;34m\u001b[0m\u001b[0m\n\u001b[1;32m   1053\u001b[0m         \u001b[0mfull_backward_hooks\u001b[0m\u001b[0;34m,\u001b[0m \u001b[0mnon_full_backward_hooks\u001b[0m \u001b[0;34m=\u001b[0m \u001b[0;34m[\u001b[0m\u001b[0;34m]\u001b[0m\u001b[0;34m,\u001b[0m \u001b[0;34m[\u001b[0m\u001b[0;34m]\u001b[0m\u001b[0;34m\u001b[0m\u001b[0;34m\u001b[0m\u001b[0m\n",
      "\u001b[0;32m/tmp/ipykernel_2294113/595360928.py\u001b[0m in \u001b[0;36mforward\u001b[0;34m(self, seq)\u001b[0m\n\u001b[1;32m      7\u001b[0m \u001b[0;34m\u001b[0m\u001b[0m\n\u001b[1;32m      8\u001b[0m     \u001b[0;32mdef\u001b[0m \u001b[0mforward\u001b[0m\u001b[0;34m(\u001b[0m\u001b[0mself\u001b[0m\u001b[0;34m,\u001b[0m \u001b[0mseq\u001b[0m\u001b[0;34m)\u001b[0m\u001b[0;34m:\u001b[0m\u001b[0;34m\u001b[0m\u001b[0;34m\u001b[0m\u001b[0m\n\u001b[0;32m----> 9\u001b[0;31m         \u001b[0membedded_seq\u001b[0m \u001b[0;34m=\u001b[0m \u001b[0mself\u001b[0m\u001b[0;34m.\u001b[0m\u001b[0membeddings\u001b[0m\u001b[0;34m(\u001b[0m\u001b[0mseq\u001b[0m\u001b[0;34m)\u001b[0m\u001b[0;34m\u001b[0m\u001b[0;34m\u001b[0m\u001b[0m\n\u001b[0m\u001b[1;32m     10\u001b[0m         \u001b[0mtimestep_representation\u001b[0m\u001b[0;34m,\u001b[0m \u001b[0;34m*\u001b[0m\u001b[0m_\u001b[0m \u001b[0;34m=\u001b[0m \u001b[0mself\u001b[0m\u001b[0;34m.\u001b[0m\u001b[0mLSTM\u001b[0m\u001b[0;34m(\u001b[0m\u001b[0membedded_seq\u001b[0m\u001b[0;34m)\u001b[0m\u001b[0;34m\u001b[0m\u001b[0;34m\u001b[0m\u001b[0m\n\u001b[1;32m     11\u001b[0m         \u001b[0mpredicted_words\u001b[0m \u001b[0;34m=\u001b[0m \u001b[0mself\u001b[0m\u001b[0;34m.\u001b[0m\u001b[0mpredict_word\u001b[0m\u001b[0;34m(\u001b[0m\u001b[0mtimestep_representation\u001b[0m\u001b[0;34m)\u001b[0m\u001b[0;34m\u001b[0m\u001b[0;34m\u001b[0m\u001b[0m\n",
      "\u001b[0;32m/usr/local/lib64/python3.9/site-packages/torch/nn/modules/module.py\u001b[0m in \u001b[0;36m_call_impl\u001b[0;34m(self, *input, **kwargs)\u001b[0m\n\u001b[1;32m   1049\u001b[0m         if not (self._backward_hooks or self._forward_hooks or self._forward_pre_hooks or _global_backward_hooks\n\u001b[1;32m   1050\u001b[0m                 or _global_forward_hooks or _global_forward_pre_hooks):\n\u001b[0;32m-> 1051\u001b[0;31m             \u001b[0;32mreturn\u001b[0m \u001b[0mforward_call\u001b[0m\u001b[0;34m(\u001b[0m\u001b[0;34m*\u001b[0m\u001b[0minput\u001b[0m\u001b[0;34m,\u001b[0m \u001b[0;34m**\u001b[0m\u001b[0mkwargs\u001b[0m\u001b[0;34m)\u001b[0m\u001b[0;34m\u001b[0m\u001b[0;34m\u001b[0m\u001b[0m\n\u001b[0m\u001b[1;32m   1052\u001b[0m         \u001b[0;31m# Do not call functions when jit is used\u001b[0m\u001b[0;34m\u001b[0m\u001b[0;34m\u001b[0m\u001b[0m\n\u001b[1;32m   1053\u001b[0m         \u001b[0mfull_backward_hooks\u001b[0m\u001b[0;34m,\u001b[0m \u001b[0mnon_full_backward_hooks\u001b[0m \u001b[0;34m=\u001b[0m \u001b[0;34m[\u001b[0m\u001b[0;34m]\u001b[0m\u001b[0;34m,\u001b[0m \u001b[0;34m[\u001b[0m\u001b[0;34m]\u001b[0m\u001b[0;34m\u001b[0m\u001b[0;34m\u001b[0m\u001b[0m\n",
      "\u001b[0;32m/usr/local/lib64/python3.9/site-packages/torch/nn/modules/sparse.py\u001b[0m in \u001b[0;36mforward\u001b[0;34m(self, input)\u001b[0m\n\u001b[1;32m    156\u001b[0m \u001b[0;34m\u001b[0m\u001b[0m\n\u001b[1;32m    157\u001b[0m     \u001b[0;32mdef\u001b[0m \u001b[0mforward\u001b[0m\u001b[0;34m(\u001b[0m\u001b[0mself\u001b[0m\u001b[0;34m,\u001b[0m \u001b[0minput\u001b[0m\u001b[0;34m:\u001b[0m \u001b[0mTensor\u001b[0m\u001b[0;34m)\u001b[0m \u001b[0;34m->\u001b[0m \u001b[0mTensor\u001b[0m\u001b[0;34m:\u001b[0m\u001b[0;34m\u001b[0m\u001b[0;34m\u001b[0m\u001b[0m\n\u001b[0;32m--> 158\u001b[0;31m         return F.embedding(\n\u001b[0m\u001b[1;32m    159\u001b[0m             \u001b[0minput\u001b[0m\u001b[0;34m,\u001b[0m \u001b[0mself\u001b[0m\u001b[0;34m.\u001b[0m\u001b[0mweight\u001b[0m\u001b[0;34m,\u001b[0m \u001b[0mself\u001b[0m\u001b[0;34m.\u001b[0m\u001b[0mpadding_idx\u001b[0m\u001b[0;34m,\u001b[0m \u001b[0mself\u001b[0m\u001b[0;34m.\u001b[0m\u001b[0mmax_norm\u001b[0m\u001b[0;34m,\u001b[0m\u001b[0;34m\u001b[0m\u001b[0;34m\u001b[0m\u001b[0m\n\u001b[1;32m    160\u001b[0m             self.norm_type, self.scale_grad_by_freq, self.sparse)\n",
      "\u001b[0;32m/usr/local/lib64/python3.9/site-packages/torch/nn/functional.py\u001b[0m in \u001b[0;36membedding\u001b[0;34m(input, weight, padding_idx, max_norm, norm_type, scale_grad_by_freq, sparse)\u001b[0m\n\u001b[1;32m   2041\u001b[0m         \u001b[0;31m# remove once script supports set_grad_enabled\u001b[0m\u001b[0;34m\u001b[0m\u001b[0;34m\u001b[0m\u001b[0m\n\u001b[1;32m   2042\u001b[0m         \u001b[0m_no_grad_embedding_renorm_\u001b[0m\u001b[0;34m(\u001b[0m\u001b[0mweight\u001b[0m\u001b[0;34m,\u001b[0m \u001b[0minput\u001b[0m\u001b[0;34m,\u001b[0m \u001b[0mmax_norm\u001b[0m\u001b[0;34m,\u001b[0m \u001b[0mnorm_type\u001b[0m\u001b[0;34m)\u001b[0m\u001b[0;34m\u001b[0m\u001b[0;34m\u001b[0m\u001b[0m\n\u001b[0;32m-> 2043\u001b[0;31m     \u001b[0;32mreturn\u001b[0m \u001b[0mtorch\u001b[0m\u001b[0;34m.\u001b[0m\u001b[0membedding\u001b[0m\u001b[0;34m(\u001b[0m\u001b[0mweight\u001b[0m\u001b[0;34m,\u001b[0m \u001b[0minput\u001b[0m\u001b[0;34m,\u001b[0m \u001b[0mpadding_idx\u001b[0m\u001b[0;34m,\u001b[0m \u001b[0mscale_grad_by_freq\u001b[0m\u001b[0;34m,\u001b[0m \u001b[0msparse\u001b[0m\u001b[0;34m)\u001b[0m\u001b[0;34m\u001b[0m\u001b[0;34m\u001b[0m\u001b[0m\n\u001b[0m\u001b[1;32m   2044\u001b[0m \u001b[0;34m\u001b[0m\u001b[0m\n\u001b[1;32m   2045\u001b[0m \u001b[0;34m\u001b[0m\u001b[0m\n",
      "\u001b[0;31mRuntimeError\u001b[0m: Expected all tensors to be on the same device, but found at least two devices, cuda:0 and cpu! (when checking arugment for argument index in method wrapper_index_select)"
     ]
    }
   ],
   "source": [
    "# load data\n",
    "LM_data = LMDataset(raw_texts) \n",
    "dataset = get_loader(LM_data, batch_size=lm_hyperparameters[\"batch_size\"], shuffle=True)\n",
    "vocab = LM_data.word_to_idx\n",
    "\n",
    "# build model and construct loss/optimizer\n",
    "lm_model = LM_withLSTM(len(vocab), \n",
    "                       lm_hyperparameters['embedding_dim'],\n",
    "                       lm_hyperparameters['output_dim'])\n",
    "lm_model.to('cuda:0')\n",
    "\n",
    "loss_fn = nn.CrossEntropyLoss()\n",
    "optimizer = optim.Adam(cbow_model.parameters(), lr=lm_hyperparameters['learning_rate'])\n",
    "\n",
    "# start training loop\n",
    "total_loss = 0\n",
    "for epoch in range(lm_hyperparameters['epochs']):\n",
    "    for i, sentence in enumerate(dataset):\n",
    "        \n",
    "        # the strucure for each BATCH is:\n",
    "        # <start>, w0, ..., wn, <end>\n",
    "        # sentence = batch.sentence\n",
    "        \n",
    "        # when training the model, at each input we predict the *NEXT* token\n",
    "        # consequently there is nothing to predict when we give the model \n",
    "        # <end> as input. \n",
    "        # thus, we do not want to give <end> as input to the model, select \n",
    "        # from each batch all tokens except the last. \n",
    "        # tip: use pytorch indexing/slicing (same as numpy) \n",
    "        # (https://pytorch.org/tutorials/beginner/basics/tensorqs_tutorial.html#operations-on-tensors)\n",
    "        # (https://jhui.github.io/2018/02/09/PyTorch-Basic-operations/)\n",
    "        input_sentence = sentence[:, 0:-1]\n",
    "        \n",
    "        # send your batch of sentences to the model\n",
    "        output = lm_model(input_sentence) # What is this error we get?\n",
    "        \n",
    "        # for each output, the model predict the NEXT token, so we have to reshape \n",
    "        # our dataset again. On timestep t, we evaluate on token t+1. That is,\n",
    "        # we never predict the <start> token ;) so this time, we select all but the first \n",
    "        # token from sentences (that is, all the tokens that we predict)\n",
    "        gold_data = sentence[:, 1:]\n",
    "        \n",
    "        # the shape of the output and sentence variable need to be changed,\n",
    "        # for the loss function. Details are in the documentation.\n",
    "        # You can use .view(...,...) to reshape the tensors  \n",
    "        loss = loss_fn(output, gold_data)\n",
    "        total_loss += loss.item()\n",
    "        \n",
    "        # print average loss for the epoch\n",
    "        print(total_loss/(i+1), end='\\r') \n",
    "        \n",
    "        # calculate gradients\n",
    "        loss.backward()\n",
    "        # update model weights\n",
    "        optimizer.step()\n",
    "        # reset gradients\n",
    "        optimizer.zero_grad()\n",
    "        \n",
    "    print()"
   ]
  },
  {
   "cell_type": "markdown",
   "metadata": {},
   "source": [
    "### Evaluating the language model\n",
    "\n",
    "We'll evaluate our model using the BLiMP dataset (https://github.com/alexwarstadt/blimp). The BLiMP dataset contains sets of linguistic minimal pairs for various syntactic and semantic phenomena, We'll evaluate our model on *existential quantifiers* (link: https://github.com/alexwarstadt/blimp/blob/master/data/existential_there_quantifiers_1.jsonl). This data, as the name suggests, investigate whether language models assign higher probability to *correct* usage of there-quantifiers. \n",
    "\n",
    "An example entry in the dataset is: \n",
    "\n",
    "```\n",
    "{\"sentence_good\": \"There was a documentary about music irritating Allison.\", \"sentence_bad\": \"There was each documentary about music irritating Allison.\", \"field\": \"semantics\", \"linguistics_term\": \"quantifiers\", \"UID\": \"existential_there_quantifiers_1\", \"simple_LM_method\": true, \"one_prefix_method\": false, \"two_prefix_method\": false, \"lexically_identical\": false, \"pairID\": \"0\"}\n",
    "```\n",
    "\n",
    "Download the dataset and build a datareader (similar to what you did for word2vec). The dataset structure you should aim for is (you don't need to worry about the other keys for this assignment):\n",
    "\n",
    "```\n",
    "good_sentence_1, bad_sentence_1\n",
    "...\n",
    "```\n",
    "\n",
    "your task now is to compare the probability assigned to the good sentence with to the probability assigned to the bad sentence. To compute a probability for a sentence we consider the product of the probabilities assigned to the *gold* tokens, remember, at timestep ```t``` we're predicting which token comes *next* e.g. ```t+1``` (basically, you do the same thing as you did when training).\n",
    "\n",
    "In rough pseudo code what your code should do is:\n",
    "\n",
    "```\n",
    "accuracy = []\n",
    "for good_sentence, bad_sentence in dataset:\n",
    "    gs_lm_output = LanguageModel(good_sentence)\n",
    "    gs_token_probabilities = softmax(gs_lm_output)\n",
    "    gs_sentence_probability = product(gs_token_probabilities[GOLD_TOKENS])\n",
    "\n",
    "    bs_lm_output = LanguageModel(bad_sentence)\n",
    "    bs_token_probabilities = softmax(bs_lm_output)\n",
    "    bs_sentence_probability = product(bs_token_probabilities[GOLD_TOKENS])\n",
    "\n",
    "    # int(True) = 1 and int(False) = 0\n",
    "    is_correct = int(gs_sentence_probability > bs_sentence_probability)\n",
    "    accuracy.append(is_correct)\n",
    "\n",
    "print(numpy.mean(accuracy))\n",
    "    \n",
    "```\n",
    "\n",
    "[6 marks]"
   ]
  },
  {
   "cell_type": "code",
   "execution_count": null,
   "metadata": {},
   "outputs": [],
   "source": [
    "# your code goes here\n",
    "import json\n",
    "\n",
    "def evaluate_model(path, vocab, model):\n",
    "    \n",
    "    accuracy = []\n",
    "    with open(path) as f:\n",
    "        # iterate over one pair of sentences at a time\n",
    "        for line in f:\n",
    "            # load the data\n",
    "            data = json.loads(line)\n",
    "            good_s = data['sentence_good']\n",
    "            bad_s = data['sentence_bad']\n",
    "            \n",
    "            # the data is tokenized as whitespace\n",
    "            tok_good_s = tokenize(good_s)\n",
    "            tok_bad_s = tokenize(bad_s)\n",
    "            \n",
    "            # encode your words as integers using the vocab from the dataloader, size is (S)\n",
    "            # we use unsqueeze to create the batch dimension \n",
    "            # in this case our input is only ONE batch, so the size of the tensor becomes: \n",
    "            # (S) -> (1, S) as the model expects batches\n",
    "            enc_good_s = torch.tensor([_ for x in tok_good_s], device=device).unsqueeze(0) # what are we doing here?\n",
    "            enc_bad_s = torch.tensor([_ for x in tok_bad_s], device=device).unsqueeze(0)\n",
    "            \n",
    "            # pass your encoded sentences to the model and predict the next tokens\n",
    "            good_s = LM_withLSTM(enc_good_s)\n",
    "            bad_s = LM_withLSTM(enc_bad_s)\n",
    "            \n",
    "            # get probabilities with softmax\n",
    "            gs_probs = F.softmax(good_s)\n",
    "            bs_probs = F.softmax(bad_s)\n",
    "            \n",
    "            # select the probability of the gold tokens\n",
    "            gs_sent_prob = find_token_probs(gs_probs, enc_good_s)\n",
    "            bs_sent_prob = find_token_probs(bs_probs, enc_bad_s)\n",
    "            \n",
    "            accuracy.append(int(gs_sent_prob>bs_sent_prob))\n",
    "            \n",
    "    return accuracy\n",
    "\n",
    "def tokenize(string):\n",
    "    new_string = string.replace('.',' ').replace(',', ' ').replace('\"', ' ').lower().split()\n",
    "    return new_string\n",
    "\n",
    "def find_token_probs(model_probs, encoded_sentece):\n",
    "    probs = []\n",
    "\n",
    "    # iterate over the tokens in your encoded sentence\n",
    "    for token, gold_token in enumerate(encoded_sentece):\n",
    "        # select the probability of the gold tokens and save\n",
    "        # hint: pytorch indexing is helpful here ;)\n",
    "        prob = ...\n",
    "        probs.append(prob)\n",
    "    sentence_prob = ...\n",
    "    return sentence_prob\n",
    "\n",
    "\n"
   ]
  },
  {
   "cell_type": "code",
   "execution_count": null,
   "metadata": {},
   "outputs": [],
   "source": [
    "tokenize(\"I like dogs.\")"
   ]
  },
  {
   "cell_type": "code",
   "execution_count": null,
   "metadata": {},
   "outputs": [],
   "source": [
    "path = 'existential_there_quantifiers_1.jsonl'\n",
    "accuracy = evaluate_model(path, ..., ...)\n",
    "\n",
    "print('Final accuracy:')\n",
    "print(np.round(np.mean(accuracy), 3))"
   ]
  },
  {
   "cell_type": "markdown",
   "metadata": {},
   "source": [
    "### Analysis"
   ]
  },
  {
   "cell_type": "markdown",
   "metadata": {},
   "source": [
    "Our model get some score, say, 55% correct predictions. Is this good? Suggest some *baseline* (i.e. a stupid \"model\" we hope ours is better than) we can compare the model against.\n",
    "\n",
    "[3 marks]"
   ]
  },
  {
   "cell_type": "code",
   "execution_count": null,
   "metadata": {},
   "outputs": [],
   "source": []
  },
  {
   "cell_type": "markdown",
   "metadata": {},
   "source": [
    "Suggest some improvements you could make to your language model.\n",
    "\n",
    "[3 marks]"
   ]
  },
  {
   "cell_type": "code",
   "execution_count": null,
   "metadata": {},
   "outputs": [],
   "source": []
  },
  {
   "cell_type": "markdown",
   "metadata": {},
   "source": [
    "Suggest some other metrics we can use to evaluate our system\n",
    "\n",
    "[2 marks]"
   ]
  },
  {
   "cell_type": "code",
   "execution_count": null,
   "metadata": {},
   "outputs": [],
   "source": []
  },
  {
   "cell_type": "markdown",
   "metadata": {},
   "source": [
    "# Literature\n",
    "\n",
    "\n",
    "Neural architectures:\n",
    "* Y. Bengio, R. Ducharme, P. Vincent, and C. Janvin. A neural probabilistic language model. (Links to an external site.) Journal of Machine Learning Research, 3(6):1137–1155, 2003. (Sections 3 and 4 are less relevant today and hence you can glance through them quickly. Instead, look at the Mikolov papers where they describe training word embeddings with the current neural network architectures.)\n",
    "* T. Mikolov, K. Chen, G. Corrado, and J. Dean. Efficient estimation of word representations in vector space. arXiv preprint arXiv:1301.3781, 2013.\n",
    "* T. Mikolov, I. Sutskever, K. Chen, G. S. Corrado, and J. Dean. Distributed representations of words and phrases and their compositionality. In Advances in neural information processing systems, pages 3111–3119, 2013.\n",
    "    \n"
   ]
  },
  {
   "cell_type": "markdown",
   "metadata": {},
   "source": [
    "Total marks: 63"
   ]
  }
 ],
 "metadata": {
  "kernelspec": {
   "display_name": "Python 3 (ipykernel)",
   "language": "python",
   "name": "python3"
  },
  "language_info": {
   "codemirror_mode": {
    "name": "ipython",
    "version": 3
   },
   "file_extension": ".py",
   "mimetype": "text/x-python",
   "name": "python",
   "nbconvert_exporter": "python",
   "pygments_lexer": "ipython3",
   "version": "3.9.10"
  }
 },
 "nbformat": 4,
 "nbformat_minor": 4
}
